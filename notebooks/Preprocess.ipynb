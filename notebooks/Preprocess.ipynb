{
  "nbformat": 4,
  "nbformat_minor": 0,
  "metadata": {
    "colab": {
      "name": "Preprocess",
      "provenance": [],
      "collapsed_sections": [],
      "include_colab_link": true
    },
    "kernelspec": {
      "name": "python3",
      "display_name": "Python 3"
    },
    "language_info": {
      "name": "python"
    }
  },
  "cells": [
    {
      "cell_type": "markdown",
      "metadata": {
        "id": "view-in-github",
        "colab_type": "text"
      },
      "source": [
        "<a href=\"https://colab.research.google.com/github/bereketkibru/Swahili-Speech-To-Text/blob/dev/notebooks/Preprocess.ipynb\" target=\"_parent\"><img src=\"https://colab.research.google.com/assets/colab-badge.svg\" alt=\"Open In Colab\"/></a>"
      ]
    },
    {
      "cell_type": "code",
      "metadata": {
        "id": "6yDl1ATqiTZD"
      },
      "source": [
        "#load packages\n",
        "import json\n",
        "import os\n",
        "import pandas as pd\n",
        "import numpy as np\n",
        "import string\n",
        "import matplotlib.pyplot as plt\n",
        "%matplotlib inline\n"
      ],
      "execution_count": 3,
      "outputs": []
    },
    {
      "cell_type": "code",
      "metadata": {
        "id": "1G8VkySMPaYo",
        "outputId": "018b68ef-1743-436d-ac54-fd336837e056",
        "colab": {
          "base_uri": "https://localhost:8080/"
        }
      },
      "source": [
        "!pip install torchaudio"
      ],
      "execution_count": 4,
      "outputs": [
        {
          "output_type": "stream",
          "text": [
            "Requirement already satisfied: torchaudio in /usr/local/lib/python3.7/dist-packages (0.9.0)\n",
            "Requirement already satisfied: torch==1.9.0 in /usr/local/lib/python3.7/dist-packages (from torchaudio) (1.9.0+cu102)\n",
            "Requirement already satisfied: typing-extensions in /usr/local/lib/python3.7/dist-packages (from torch==1.9.0->torchaudio) (3.7.4.3)\n"
          ],
          "name": "stdout"
        }
      ]
    },
    {
      "cell_type": "code",
      "metadata": {
        "id": "rgma8qLPPEwq"
      },
      "source": [
        "import librosa\n",
        "import librosa.display\n",
        "import IPython.display as  ipd\n",
        "import torch\n",
        "import torchaudio\n",
        "from torchaudio import transforms\n"
      ],
      "execution_count": 5,
      "outputs": []
    },
    {
      "cell_type": "code",
      "metadata": {
        "id": "9PnSLAY9PF0v",
        "outputId": "6b16fb12-6030-46a5-8d73-faec33ffd2b6",
        "colab": {
          "base_uri": "https://localhost:8080/"
        }
      },
      "source": [
        "from google.colab import drive\n",
        "drive.mount('/content/drive')\n",
        "\n"
      ],
      "execution_count": 6,
      "outputs": [
        {
          "output_type": "stream",
          "text": [
            "Drive already mounted at /content/drive; to attempt to forcibly remount, call drive.mount(\"/content/drive\", force_remount=True).\n"
          ],
          "name": "stdout"
        }
      ]
    },
    {
      "cell_type": "code",
      "metadata": {
        "id": "hxYgLeUyPrjI",
        "outputId": "558366fe-1213-470e-9eae-1e9d7033731e",
        "colab": {
          "base_uri": "https://localhost:8080/",
          "height": 1000
        }
      },
      "source": [
        "os.chdir(\"/content/drive/MyDrive/Week-4/speech_data/ALFFA_PUBLIC/ASR/SWAHILI/data/train\")\n",
        "\n",
        "DATASET_PATH = \"wav\"\n",
        "SAMPLE_RATE = 22050\n",
        "labels=[]\n",
        "def preprocess(dataset_path):\n",
        "    # dictionary to store files\n",
        "    \n",
        "    # loop through all sub-folders\n",
        "    for i, (dirpath, dirnames, filenames) in enumerate(os.walk(dataset_path)):\n",
        "\n",
        "        # ensure we're processing at sub-folder level\n",
        "        if dirpath is not dataset_path:\n",
        "\n",
        "            # save label (i.e., sub-folder name) in the mapping eg SWH-05-20101106\n",
        "            label = dirpath.split(\"/\")[-1]\n",
        "           \n",
        "            print(\"\\nProcessing: {}\".format(label))\n",
        "\n",
        "            # process all audio files in genre sub-dir\n",
        "            for f in filenames:\n",
        "\n",
        "\t\t        # load audio file\n",
        "                filename=\"wav/\"+label+\"/\"+f\n",
        "                labels.append(filename)\n",
        "                 \n",
        "if __name__ == \"__main__\":\n",
        "    preprocess(DATASET_PATH)\n",
        "\n",
        "df=pd.read_csv(\"text.txt\",sep=\"\\t\",header=None)\n",
        "df = df.drop([0],axis=1)\n",
        "df.columns=['text']\n",
        "df['audio']=labels\n",
        "\n",
        "def clean_column(data:pd.DataFrame,col:str):\n",
        "  words_list=[' UNK ', ' music ', ' laughter ']\n",
        "  data = data[~data[col].isin(words_list)]\n",
        "  for row in data[col]:\n",
        "    for punctuation in string.punctuation:\n",
        "        row = row.replace(punctuation,\" \")\n",
        "    return row\n",
        "  return data\n",
        "\n",
        "clean_column(df,'text')\n",
        "\n",
        "df.head()"
      ],
      "execution_count": 11,
      "outputs": [
        {
          "output_type": "stream",
          "text": [
            "\n",
            "Processing: SWH-05-20101106\n",
            "\n",
            "Processing: SWH-05-20101107\n",
            "\n",
            "Processing: SWH-05-20101109\n",
            "\n",
            "Processing: SWH-05-20101110\n",
            "\n",
            "Processing: SWH-05-20101111\n",
            "\n",
            "Processing: SWH-05-20101112\n",
            "\n",
            "Processing: SWH-05-20101113\n",
            "\n",
            "Processing: SWH-05-20101121\n",
            "\n",
            "Processing: SWH-05-20101123\n",
            "\n",
            "Processing: SWH-05-20110114\n",
            "\n",
            "Processing: SWH-05-20110123\n",
            "\n",
            "Processing: SWH-05-20110125\n",
            "\n",
            "Processing: SWH-05-20110215\n",
            "\n",
            "Processing: SWH-05-20110317\n",
            "\n",
            "Processing: SWH-05-20110321\n",
            "\n",
            "Processing: SWH-05-20110327\n",
            "\n",
            "Processing: SWH-15-20101103\n",
            "\n",
            "Processing: SWH-15-20101104\n",
            "\n",
            "Processing: SWH-15-20101109\n",
            "\n",
            "Processing: SWH-15-20101113\n",
            "\n",
            "Processing: SWH-15-20101115\n",
            "\n",
            "Processing: SWH-15-20101117\n",
            "\n",
            "Processing: SWH-15-20101130\n",
            "\n",
            "Processing: SWH-15-20101227\n",
            "\n",
            "Processing: SWH-15-20110124\n",
            "\n",
            "Processing: SWH-15-20110126\n",
            "\n",
            "Processing: SWH-15-20110207\n",
            "\n",
            "Processing: SWH-15-20110224\n",
            "\n",
            "Processing: SWH-15-20110303\n",
            "\n",
            "Processing: SWH-15-20110310\n"
          ],
          "name": "stdout"
        },
        {
          "output_type": "execute_result",
          "data": {
            "text/html": [
              "<div>\n",
              "<style scoped>\n",
              "    .dataframe tbody tr th:only-of-type {\n",
              "        vertical-align: middle;\n",
              "    }\n",
              "\n",
              "    .dataframe tbody tr th {\n",
              "        vertical-align: top;\n",
              "    }\n",
              "\n",
              "    .dataframe thead th {\n",
              "        text-align: right;\n",
              "    }\n",
              "</style>\n",
              "<table border=\"1\" class=\"dataframe\">\n",
              "  <thead>\n",
              "    <tr style=\"text-align: right;\">\n",
              "      <th></th>\n",
              "      <th>text</th>\n",
              "      <th>audio</th>\n",
              "    </tr>\n",
              "  </thead>\n",
              "  <tbody>\n",
              "    <tr>\n",
              "      <th>0</th>\n",
              "      <td>rais wa tanzania jakaya mrisho kikwete</td>\n",
              "      <td>wav/SWH-05-20101106/SWH-05-20101106_16k-emissi...</td>\n",
              "    </tr>\n",
              "    <tr>\n",
              "      <th>1</th>\n",
              "      <td>yanayo andaliwa nami pendo pondo idhaa ya kisw...</td>\n",
              "      <td>wav/SWH-05-20101106/SWH-05-20101106_16k-emissi...</td>\n",
              "    </tr>\n",
              "    <tr>\n",
              "      <th>2</th>\n",
              "      <td>inayokutangazia moja kwa moja kutoka jijini da...</td>\n",
              "      <td>wav/SWH-05-20101106/SWH-05-20101106_16k-emissi...</td>\n",
              "    </tr>\n",
              "    <tr>\n",
              "      <th>3</th>\n",
              "      <td>juma hili bara la afrika limeshuhudia raia wa ...</td>\n",
              "      <td>wav/SWH-05-20101106/SWH-05-20101106_16k-emissi...</td>\n",
              "    </tr>\n",
              "    <tr>\n",
              "      <th>4</th>\n",
              "      <td>wakipiga kura ya maoni ilikufanya mabadiliko ya</td>\n",
              "      <td>wav/SWH-05-20101106/SWH-05-20101106_16k-emissi...</td>\n",
              "    </tr>\n",
              "  </tbody>\n",
              "</table>\n",
              "</div>"
            ],
            "text/plain": [
              "                                                text                                              audio\n",
              "0             rais wa tanzania jakaya mrisho kikwete  wav/SWH-05-20101106/SWH-05-20101106_16k-emissi...\n",
              "1  yanayo andaliwa nami pendo pondo idhaa ya kisw...  wav/SWH-05-20101106/SWH-05-20101106_16k-emissi...\n",
              "2  inayokutangazia moja kwa moja kutoka jijini da...  wav/SWH-05-20101106/SWH-05-20101106_16k-emissi...\n",
              "3  juma hili bara la afrika limeshuhudia raia wa ...  wav/SWH-05-20101106/SWH-05-20101106_16k-emissi...\n",
              "4    wakipiga kura ya maoni ilikufanya mabadiliko ya  wav/SWH-05-20101106/SWH-05-20101106_16k-emissi..."
            ]
          },
          "metadata": {
            "tags": []
          },
          "execution_count": 11
        }
      ]
    },
    {
      "cell_type": "code",
      "metadata": {
        "id": "RjpJ4eSDg9x6"
      },
      "source": [
        "#check whether \n",
        "chan=[]\n",
        "for i in df['audio']:\n",
        "  sig, sr = torchaudio.load(i)\n",
        "  sig_shape=sig.shape[0]\n",
        "  chan.append(sig_shape)\n",
        "\n",
        "#getting unique values from list\n",
        "set_channel=set(chan)\n",
        "print('Unique sound signals',set_channel)"
      ],
      "execution_count": null,
      "outputs": []
    }
  ]
}