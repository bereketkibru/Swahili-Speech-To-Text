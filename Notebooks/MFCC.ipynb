{
  "nbformat": 4,
  "nbformat_minor": 0,
  "metadata": {
    "colab": {
      "name": "Untitled3.ipynb",
      "provenance": [],
      "authorship_tag": "ABX9TyN3OR2MAmHYS2P4OCEWwvVD",
      "include_colab_link": true
    },
    "kernelspec": {
      "name": "python3",
      "display_name": "Python 3"
    },
    "language_info": {
      "name": "python"
    }
  },
  "cells": [
    {
      "cell_type": "markdown",
      "metadata": {
        "id": "view-in-github",
        "colab_type": "text"
      },
      "source": [
        "<a href=\"https://colab.research.google.com/github/bereketkibru/Swahili-Speech-To-Text/blob/dev/Notebooks/MFCC.ipynb\" target=\"_parent\"><img src=\"https://colab.research.google.com/assets/colab-badge.svg\" alt=\"Open In Colab\"/></a>"
      ]
    },
    {
      "cell_type": "code",
      "metadata": {
        "colab": {
          "base_uri": "https://localhost:8080/"
        },
        "id": "ypLybuXEO2x4",
        "outputId": "27dcdb4a-61ce-47c0-ebb4-dba813685e39"
      },
      "source": [
        "from google.colab import drive\n",
        "drive.mount('/content/drive')"
      ],
      "execution_count": 1,
      "outputs": [
        {
          "output_type": "stream",
          "text": [
            "Mounted at /content/drive\n"
          ],
          "name": "stdout"
        }
      ]
    },
    {
      "cell_type": "code",
      "metadata": {
        "colab": {
          "base_uri": "https://localhost:8080/"
        },
        "id": "RcBESx88O67b",
        "outputId": "50a8a9c7-445f-4ddb-9891-41d94240efc3"
      },
      "source": [
        "import os\n",
        "os.chdir(\"/content/drive/MyDrive/Week-4/speech_data/ALFFA_PUBLIC/ASR/SWAHILI/data/train\")\n",
        "os.listdir()"
      ],
      "execution_count": 2,
      "outputs": [
        {
          "output_type": "execute_result",
          "data": {
            "text/plain": [
              "['spk2utt', 'utt2spk', 'wav.scp', 'wav', 'text.txt']"
            ]
          },
          "metadata": {
            "tags": []
          },
          "execution_count": 2
        }
      ]
    },
    {
      "cell_type": "code",
      "metadata": {
        "id": "fCbyAYdmPSSJ"
      },
      "source": [
        "import sklearn\n",
        "import librosa\n",
        "import librosa.display\n",
        "import warnings\n",
        "warnings.filterwarnings(\"ignore\")"
      ],
      "execution_count": 6,
      "outputs": []
    },
    {
      "cell_type": "code",
      "metadata": {
        "id": "C2cgCTs3Paza"
      },
      "source": [
        "AUDIO_FILE='/content/drive/MyDrive/Week-4/speech_data/ALFFA_PUBLIC/ASR/SWAHILI/data/train/wav/SWH-05-20101106/SWH-05-20101106_16k-emission_swahili_05h30_-_06h00_tu_20101106_part10.wav'"
      ],
      "execution_count": 7,
      "outputs": []
    },
    {
      "cell_type": "code",
      "metadata": {
        "colab": {
          "base_uri": "https://localhost:8080/",
          "height": 296
        },
        "id": "WaF_ZMOyPUZ-",
        "outputId": "7fb12399-9d6c-4abc-c6a8-5103046828ae"
      },
      "source": [
        "# Load the audio file\n",
        "samples, sample_rate = librosa.load(AUDIO_FILE, sr=None)\n",
        "mfcc = librosa.feature.mfcc(samples, sr=sample_rate)\n",
        "\n",
        "# Center MFCC coefficient dimensions to the mean and unit variance\n",
        "mfcc = sklearn.preprocessing.scale(mfcc, axis=1)\n",
        "librosa.display.specshow(mfcc, sr=sample_rate, x_axis='time')\n",
        "\n",
        "print (f'MFCC is of type {type(mfcc)} with shape {mfcc.shape}')\n",
        "# MFCC is of type <class 'numpy.ndarray'> with shape (20, 134)"
      ],
      "execution_count": 8,
      "outputs": [
        {
          "output_type": "stream",
          "text": [
            "MFCC is of type <class 'numpy.ndarray'> with shape (20, 99)\n"
          ],
          "name": "stdout"
        },
        {
          "output_type": "display_data",
          "data": {
            "image/png": "[encoded data removed]",
            "text/plain": [
              "<Figure size 432x288 with 1 Axes>"
            ]
          },
          "metadata": {
            "tags": [],
            "needs_background": "light"
          }
        }
      ]
    }
  ]
}